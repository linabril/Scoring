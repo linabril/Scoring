{
 "cells": [
  {
   "cell_type": "code",
   "execution_count": 43,
   "id": "ae98f49a-ac07-47aa-8064-862423a12080",
   "metadata": {},
   "outputs": [
    {
     "name": "stdout",
     "output_type": "stream",
     "text": [
      "Requirement already satisfied: xlrd in /Users/linaabril/miniconda3/envs/econ/lib/python3.11/site-packages (2.0.1)\n"
     ]
    }
   ],
   "source": [
    "import warnings\n",
    "warnings.simplefilter(\"ignore\", category=FutureWarning)\n",
    "import pandas as pd\n",
    "import numpy as np\n",
    "import matplotlib.pyplot as plt\n",
    "from matplotlib.offsetbox import AnchoredText\n",
    "from matplotlib.colors import ListedColormap, rgb2hex\n",
    "import matplotlib.patches as mpatches\n",
    "import seaborn as sns\n",
    "from scipy import stats\n",
    "from sklearn.metrics import recall_score, accuracy_score, precision_score, fbeta_score, f1_score\n",
    "from scipy.stats import ttest_ind\n",
    "!pip install xlrd\n",
    "from scipy.stats import shapiro, kstest, anderson\n",
    "from scipy.stats import ttest_rel, ttest_1samp"
   ]
  },
  {
   "cell_type": "code",
   "execution_count": 44,
   "id": "eadf02a1-99cb-4e92-8095-773a176575fb",
   "metadata": {},
   "outputs": [],
   "source": [
    "get_ipython().run_line_magic('matplotlib', 'inline')"
   ]
  },
  {
   "cell_type": "code",
   "execution_count": 45,
   "id": "66571180-ff30-4858-a87d-9bdd698c7477",
   "metadata": {},
   "outputs": [],
   "source": [
    "#Load the dataset\n",
    "df = pd.read_excel('/Users/linaabril/Documents/FE 2024/scoring/Scoring-20240917/defaut2000.xls')"
   ]
  },
  {
   "cell_type": "code",
   "execution_count": 46,
   "id": "af15674b-88c9-4e93-9461-c6da253b4bfe",
   "metadata": {},
   "outputs": [
    {
     "data": {
      "text/html": [
       "<div>\n",
       "<style scoped>\n",
       "    .dataframe tbody tr th:only-of-type {\n",
       "        vertical-align: middle;\n",
       "    }\n",
       "\n",
       "    .dataframe tbody tr th {\n",
       "        vertical-align: top;\n",
       "    }\n",
       "\n",
       "    .dataframe thead th {\n",
       "        text-align: right;\n",
       "    }\n",
       "</style>\n",
       "<table border=\"1\" class=\"dataframe\">\n",
       "  <thead>\n",
       "    <tr style=\"text-align: right;\">\n",
       "      <th></th>\n",
       "      <th>yd</th>\n",
       "      <th>tdta</th>\n",
       "      <th>reta</th>\n",
       "      <th>opita</th>\n",
       "      <th>ebita</th>\n",
       "      <th>lsls</th>\n",
       "      <th>lta</th>\n",
       "      <th>gempl</th>\n",
       "      <th>invsls</th>\n",
       "      <th>nwcta</th>\n",
       "      <th>cacl</th>\n",
       "      <th>qacl</th>\n",
       "      <th>fata</th>\n",
       "      <th>ltdta</th>\n",
       "      <th>mveltd</th>\n",
       "    </tr>\n",
       "  </thead>\n",
       "  <tbody>\n",
       "    <tr>\n",
       "      <th>0</th>\n",
       "      <td>0</td>\n",
       "      <td>0.145539</td>\n",
       "      <td>0.383244</td>\n",
       "      <td>0.249250</td>\n",
       "      <td>0.240580</td>\n",
       "      <td>2.832563</td>\n",
       "      <td>3.196006</td>\n",
       "      <td>0.105342</td>\n",
       "      <td>0.075232</td>\n",
       "      <td>0.793606</td>\n",
       "      <td>6.452848</td>\n",
       "      <td>6.093447</td>\n",
       "      <td>0.000000</td>\n",
       "      <td>27.604182</td>\n",
       "      <td>0.027201</td>\n",
       "    </tr>\n",
       "    <tr>\n",
       "      <th>1</th>\n",
       "      <td>0</td>\n",
       "      <td>0.157739</td>\n",
       "      <td>0.653575</td>\n",
       "      <td>0.261918</td>\n",
       "      <td>0.215381</td>\n",
       "      <td>5.350979</td>\n",
       "      <td>5.149535</td>\n",
       "      <td>-0.002974</td>\n",
       "      <td>0.016330</td>\n",
       "      <td>0.384159</td>\n",
       "      <td>3.529916</td>\n",
       "      <td>3.398378</td>\n",
       "      <td>-99.990000</td>\n",
       "      <td>8.962069</td>\n",
       "      <td>0.237790</td>\n",
       "    </tr>\n",
       "    <tr>\n",
       "      <th>2</th>\n",
       "      <td>0</td>\n",
       "      <td>0.182360</td>\n",
       "      <td>0.218102</td>\n",
       "      <td>-0.053062</td>\n",
       "      <td>-0.356679</td>\n",
       "      <td>4.031815</td>\n",
       "      <td>3.970206</td>\n",
       "      <td>-0.257328</td>\n",
       "      <td>0.042915</td>\n",
       "      <td>0.437357</td>\n",
       "      <td>3.433004</td>\n",
       "      <td>3.179101</td>\n",
       "      <td>0.002600</td>\n",
       "      <td>3.644061</td>\n",
       "      <td>0.366079</td>\n",
       "    </tr>\n",
       "    <tr>\n",
       "      <th>3</th>\n",
       "      <td>0</td>\n",
       "      <td>0.196958</td>\n",
       "      <td>0.011139</td>\n",
       "      <td>0.221797</td>\n",
       "      <td>0.200671</td>\n",
       "      <td>4.025514</td>\n",
       "      <td>3.827649</td>\n",
       "      <td>0.205517</td>\n",
       "      <td>0.158391</td>\n",
       "      <td>0.595541</td>\n",
       "      <td>4.319132</td>\n",
       "      <td>3.243222</td>\n",
       "      <td>0.001032</td>\n",
       "      <td>27.631832</td>\n",
       "      <td>0.162987</td>\n",
       "    </tr>\n",
       "    <tr>\n",
       "      <th>4</th>\n",
       "      <td>0</td>\n",
       "      <td>0.202570</td>\n",
       "      <td>0.483833</td>\n",
       "      <td>0.280728</td>\n",
       "      <td>0.233083</td>\n",
       "      <td>2.443132</td>\n",
       "      <td>2.238314</td>\n",
       "      <td>-0.032192</td>\n",
       "      <td>0.237983</td>\n",
       "      <td>0.585332</td>\n",
       "      <td>6.133335</td>\n",
       "      <td>3.571832</td>\n",
       "      <td>0.051713</td>\n",
       "      <td>8.326772</td>\n",
       "      <td>0.293362</td>\n",
       "    </tr>\n",
       "  </tbody>\n",
       "</table>\n",
       "</div>"
      ],
      "text/plain": [
       "   yd      tdta      reta     opita     ebita      lsls       lta     gempl  \\\n",
       "0   0  0.145539  0.383244  0.249250  0.240580  2.832563  3.196006  0.105342   \n",
       "1   0  0.157739  0.653575  0.261918  0.215381  5.350979  5.149535 -0.002974   \n",
       "2   0  0.182360  0.218102 -0.053062 -0.356679  4.031815  3.970206 -0.257328   \n",
       "3   0  0.196958  0.011139  0.221797  0.200671  4.025514  3.827649  0.205517   \n",
       "4   0  0.202570  0.483833  0.280728  0.233083  2.443132  2.238314 -0.032192   \n",
       "\n",
       "     invsls     nwcta      cacl      qacl       fata      ltdta    mveltd  \n",
       "0  0.075232  0.793606  6.452848  6.093447   0.000000  27.604182  0.027201  \n",
       "1  0.016330  0.384159  3.529916  3.398378 -99.990000   8.962069  0.237790  \n",
       "2  0.042915  0.437357  3.433004  3.179101   0.002600   3.644061  0.366079  \n",
       "3  0.158391  0.595541  4.319132  3.243222   0.001032  27.631832  0.162987  \n",
       "4  0.237983  0.585332  6.133335  3.571832   0.051713   8.326772  0.293362  "
      ]
     },
     "execution_count": 46,
     "metadata": {},
     "output_type": "execute_result"
    }
   ],
   "source": [
    "df.head()"
   ]
  },
  {
   "cell_type": "code",
   "execution_count": 47,
   "id": "eaf3b9fd-9f7b-48e6-94a4-cb3d3eb0dd70",
   "metadata": {},
   "outputs": [],
   "source": [
    "# Replace the observations at -99.9 by missing values\n",
    "df.replace(-99.99, np.nan, inplace=True)"
   ]
  },
  {
   "cell_type": "code",
   "execution_count": 48,
   "id": "2eef60f5-ed08-47e7-a7a7-bc72099d9728",
   "metadata": {},
   "outputs": [],
   "source": [
    "# Sort the data by 'lsls' column\n",
    "df = df.sort_values(by='lsls')"
   ]
  },
  {
   "cell_type": "code",
   "execution_count": 49,
   "id": "51d9a5d7-519a-447c-b1ed-21c30772206f",
   "metadata": {},
   "outputs": [],
   "source": [
    "# New column alternating between 1 and 0\n",
    "df['Group'] = [1 if i % 2 == 0 else 0 for i in range(len(df))]"
   ]
  },
  {
   "cell_type": "code",
   "execution_count": 50,
   "id": "5cd5173e-d01c-451f-846a-10943bfb8479",
   "metadata": {},
   "outputs": [],
   "source": [
    "# Separate into estimation and validation samples\n",
    "estimation_sample = df[df['Group'] == 1] \n",
    "validation_sample = df[df['Group'] == 0] "
   ]
  },
  {
   "cell_type": "code",
   "execution_count": 51,
   "id": "31462c6c-690f-4e32-b585-e044ab92a6cf",
   "metadata": {},
   "outputs": [
    {
     "name": "stdout",
     "output_type": "stream",
     "text": [
      "     yd      tdta      reta     opita     ebita      lsls       lta     gempl  \\\n",
      "168   1  0.900077  0.015787 -0.010493 -0.052850  2.192304  2.344659 -0.023749   \n",
      "4     0  0.202570  0.483833  0.280728  0.233083  2.443132  2.238314 -0.032192   \n",
      "0     0  0.145539  0.383244  0.249250  0.240580  2.832563  3.196006  0.105342   \n",
      "137   1  0.602458  0.144219 -0.332079 -0.356910  2.900271  1.703244 -0.082549   \n",
      "73    0  0.599189  0.148823  0.143413  0.103324  2.963405  2.493213 -0.020852   \n",
      "\n",
      "       invsls     nwcta      cacl      qacl      fata      ltdta    mveltd  \\\n",
      "168  0.836659 -0.018964  0.977743  0.134561  0.040913   0.371591  0.166923   \n",
      "4    0.237983  0.585332  6.133335  3.571832  0.051713   8.326772  0.293362   \n",
      "0    0.075232  0.793606  6.452848  6.093447  0.000000  27.604182  0.027201   \n",
      "137  0.140173  0.436418  1.897833  0.943241  0.116378   0.647507  0.067219   \n",
      "73   0.252448  0.516704  3.772515  1.604781  0.373210   0.500182  0.273783   \n",
      "\n",
      "     Group  \n",
      "168      1  \n",
      "4        1  \n",
      "0        1  \n",
      "137      1  \n",
      "73       1  \n",
      "     yd      tdta      reta     opita     ebita      lsls       lta     gempl  \\\n",
      "62    0  0.548348  0.037796 -0.063657 -0.092025  2.243384  2.320210  0.456475   \n",
      "68    0  0.573019  0.040257  0.202784  0.186510  2.639933  1.968870  0.033038   \n",
      "138   1  0.603715  0.185826 -0.118158 -0.170569  2.847273  2.770030 -0.169024   \n",
      "123   1  0.517705  0.250614  0.004336 -0.027894  2.925547  2.127856 -0.063153   \n",
      "31    0  0.409262  0.006859  0.126605  0.098086  2.968233  3.158393  0.160371   \n",
      "\n",
      "       invsls     nwcta      cacl      qacl      fata     ltdta    mveltd  \\\n",
      "62   0.322593  0.350026  2.371865  1.201017  0.284639  1.471214  0.245892   \n",
      "68   0.189908  0.470021  2.242922  1.260476  0.164240  1.757342  0.150107   \n",
      "138  0.485257  0.418705  1.994468  0.749378  0.182681  0.672712  0.137957   \n",
      "123  0.377140  0.438358  1.963775  0.122656  0.062870  0.433155  0.091776   \n",
      "31   0.162727  0.341705  2.264987  1.766896  0.139137  2.755766  0.226291   \n",
      "\n",
      "     Group  \n",
      "62       0  \n",
      "68       0  \n",
      "138      0  \n",
      "123      0  \n",
      "31       0  \n"
     ]
    }
   ],
   "source": [
    "# Display the first few rows\n",
    "print(estimation_sample.head())\n",
    "print(validation_sample.head())"
   ]
  },
  {
   "cell_type": "code",
   "execution_count": 52,
   "id": "9530f85c-02c8-411f-80a1-5b4540d0827d",
   "metadata": {},
   "outputs": [
    {
     "name": "stdout",
     "output_type": "stream",
     "text": [
      "               yd        tdta        reta       opita       ebita        lsls  \\\n",
      "count  181.000000  181.000000  181.000000  181.000000  181.000000  181.000000   \n",
      "mean     0.475138    0.558917    0.250587    0.109429    0.066021    5.728610   \n",
      "std      0.500767    0.222044    0.280174    0.120079    0.125711    1.638786   \n",
      "min      0.000000    0.108258   -0.958997   -0.399538   -0.482151    2.192304   \n",
      "25%      0.000000    0.430762    0.138137    0.059856    0.021517    4.466424   \n",
      "50%      0.000000    0.541322    0.287026    0.116025    0.080512    5.697096   \n",
      "75%      1.000000    0.643554    0.422355    0.184437    0.137487    6.782118   \n",
      "max      1.000000    1.512991    0.835250    0.382154    0.310211   11.378750   \n",
      "\n",
      "              lta       gempl      invsls       nwcta        cacl        qacl  \\\n",
      "count  181.000000  181.000000  181.000000  181.000000  181.000000  181.000000   \n",
      "mean     5.364688   -0.000717    0.173613    0.270786    2.219196    1.261482   \n",
      "std      1.668283    0.106887    0.099340    0.177900    1.073695    0.863886   \n",
      "min      1.703244   -0.287979    0.016330   -0.429493    0.478824    0.122656   \n",
      "25%      3.987544   -0.056461    0.106459    0.166754    1.548995    0.769935   \n",
      "50%      5.312927    0.000000    0.162897    0.257539    1.979158    1.059411   \n",
      "75%      6.538129    0.041466    0.224503    0.389965    2.592360    1.482788   \n",
      "max     11.017034    0.456475    0.836659    0.793606    6.838081    6.093447   \n",
      "\n",
      "             fata       ltdta      mveltd       Group  \n",
      "count  179.000000  180.000000  181.000000  181.000000  \n",
      "mean     0.198006    1.897028    0.340090    0.502762  \n",
      "std      0.144356    3.478360    0.165020    0.501379  \n",
      "min      0.000000    0.052981    0.027201    0.000000  \n",
      "25%      0.088169    0.481967    0.226291    0.000000  \n",
      "50%      0.180877    0.925826    0.307740    1.000000  \n",
      "75%      0.281268    1.763581    0.457466    1.000000  \n",
      "max      0.902017   27.631832    0.804979    1.000000  \n"
     ]
    }
   ],
   "source": [
    "# Calculate univariate statistics for the 15 variables\n",
    "stats_summary = df.describe()\n",
    "print(stats_summary)"
   ]
  },
  {
   "cell_type": "code",
   "execution_count": 65,
   "id": "3d4943d2-be88-462f-ac1d-8ed6b66dab8a",
   "metadata": {},
   "outputs": [
    {
     "name": "stdout",
     "output_type": "stream",
     "text": [
      "              yd       tdta       reta      opita      ebita       lsls  \\\n",
      "count  91.000000  91.000000  91.000000  91.000000  91.000000  91.000000   \n",
      "mean    0.450549   0.549266   0.265352   0.123561   0.077118   5.740984   \n",
      "std     0.500305   0.220739   0.291161   0.114780   0.120935   1.692289   \n",
      "min     0.000000   0.145539  -0.958997  -0.332079  -0.356910   2.192304   \n",
      "25%     0.000000   0.419193   0.146521   0.069035   0.028152   4.453581   \n",
      "50%     0.000000   0.543347   0.298553   0.140878   0.088694   5.697096   \n",
      "75%     1.000000   0.658134   0.442470   0.195726   0.153684   6.783353   \n",
      "max     1.000000   1.512991   0.710306   0.382154   0.284486  11.378750   \n",
      "\n",
      "             lta      gempl     invsls      nwcta       cacl       qacl  \\\n",
      "count  91.000000  91.000000  91.000000  91.000000  91.000000  91.000000   \n",
      "mean    5.356968  -0.000118   0.171294   0.275178   2.257697   1.303645   \n",
      "std     1.678276   0.104123   0.105911   0.175885   1.057573   0.896721   \n",
      "min     1.703244  -0.287979   0.016330  -0.429493   0.478824   0.134561   \n",
      "25%     3.978875  -0.054642   0.101141   0.173032   1.581063   0.805357   \n",
      "50%     5.322981  -0.002974   0.162897   0.256933   1.960808   1.061044   \n",
      "75%     6.537081   0.039673   0.216851   0.392160   2.843240   1.627286   \n",
      "max    11.017034   0.428108   0.836659   0.793606   6.452848   6.093447   \n",
      "\n",
      "            fata      ltdta     mveltd  Group  \n",
      "count  89.000000  90.000000  91.000000   91.0  \n",
      "mean    0.193557   2.034579   0.345706    1.0  \n",
      "std     0.132755   3.689973   0.165246    0.0  \n",
      "min     0.000000   0.057734   0.027201    1.0  \n",
      "25%     0.089228   0.492735   0.236387    1.0  \n",
      "50%     0.182331   0.930719   0.318517    1.0  \n",
      "75%     0.274655   1.880444   0.456140    1.0  \n",
      "max     0.599923  27.604182   0.696841    1.0  \n"
     ]
    }
   ],
   "source": [
    "# Obtain univariate statistics\n",
    "univariate_stats = estimation_sample.describe()\n",
    "\n",
    "# Print the table of univariate statistics\n",
    "print(univariate_stats)"
   ]
  },
  {
   "cell_type": "code",
   "execution_count": 68,
   "id": "e020bfcb-b713-44ff-af75-8759f204d7f5",
   "metadata": {},
   "outputs": [
    {
     "name": "stdout",
     "output_type": "stream",
     "text": [
      "Variable: lsls\n",
      "- Mean: 5.740984056043955\n",
      "- Standard deviation: 1.6922891156261572\n",
      "- Minimum value: 2.1923039\n",
      "- Median: 5.6970962\n",
      "- Maximum value: 11.37875\n",
      "Commentary:\n",
      "The mean of lsls is greater than the median, suggesting a positive skew.\n",
      "The standard deviation of lsls is 1.6922891156261572, indicating the variability relative to its mean. The minimum value is 2.1923039 and the maximum value is 11.37875, which shows the range of lsls.\n"
     ]
    }
   ],
   "source": [
    "# Example univariate statistics for the estimation sample\n",
    "variable_name = 'lsls'\n",
    "\n",
    "# Calculate statistics for the estimation sample\n",
    "mean_lsls = estimation_sample[variable_name].mean()\n",
    "std_lsls = estimation_sample[variable_name].std()\n",
    "min_lsls = estimation_sample[variable_name].min()\n",
    "max_lsls = estimation_sample[variable_name].max()\n",
    "median_lsls = estimation_sample[variable_name].median()\n",
    "\n",
    "# Display the results\n",
    "print(f\"Variable: {variable_name}\")\n",
    "print(f\"- Mean: {mean_lsls}\")\n",
    "print(f\"- Standard deviation: {std_lsls}\")\n",
    "print(f\"- Minimum value: {min_lsls}\")\n",
    "print(f\"- Median: {median_lsls}\")\n",
    "print(f\"- Maximum value: {max_lsls}\")\n",
    "\n",
    "# Interpretation of results\n",
    "print(\"Commentary:\")\n",
    "if mean_lsls > median_lsls:\n",
    "    print(f\"The mean of {variable_name} is greater than the median, suggesting a positive skew.\")\n",
    "elif mean_lsls < median_lsls:\n",
    "    print(f\"The mean of {variable_name} is less than the median, suggesting a negative skew.\")\n",
    "else:\n",
    "    print(f\"The mean and median of {variable_name} are equal, suggesting a symmetric distribution.\")\n",
    "\n",
    "print(f\"The standard deviation of {variable_name} is {std_lsls}, indicating the variability relative to its mean. \"\n",
    "      f\"The minimum value is {min_lsls} and the maximum value is {max_lsls}, which shows the range of {variable_name}.\")"
   ]
  },
  {
   "cell_type": "markdown",
   "id": "e4104af4-56c5-4f60-8115-c9450f94b92d",
   "metadata": {},
   "source": [
    "**Separate Healthy and Default Firms in Both Datasets**"
   ]
  },
  {
   "cell_type": "markdown",
   "id": "988f8d36-31ad-4c4b-b38f-91d856bcc309",
   "metadata": {},
   "source": [
    "*Estimation sample:*"
   ]
  },
  {
   "cell_type": "code",
   "execution_count": 69,
   "id": "5041ea2f-3d7f-4a64-93e8-56ad02966d7b",
   "metadata": {},
   "outputs": [
    {
     "name": "stdout",
     "output_type": "stream",
     "text": [
      "Default Firms in Estimation Sample:\n",
      "     yd      tdta      reta     opita     ebita      lsls       lta     gempl  \\\n",
      "168   1  0.900077  0.015787 -0.010493 -0.052850  2.192304  2.344659 -0.023749   \n",
      "137   1  0.602458  0.144219 -0.332079 -0.356910  2.900271  1.703244 -0.082549   \n",
      "99    1  0.297779  0.609529  0.060537  0.022705  3.028867  3.588643  0.011956   \n",
      "129   1  0.543347  0.435182  0.079582  0.070670  3.367881  3.987544 -0.116231   \n",
      "169   1  0.902526 -0.510671 -0.002009 -0.070582  3.478208  3.688528 -0.038601   \n",
      "\n",
      "       invsls     nwcta      cacl      qacl      fata     ltdta    mveltd  \\\n",
      "168  0.836659 -0.018964  0.977743  0.134561  0.040913  0.371591  0.166923   \n",
      "137  0.140173  0.436418  1.897833  0.943241  0.116378  0.647507  0.067219   \n",
      "99   0.052192  0.271273  3.131584  2.897276  0.107307  3.659994  0.220958   \n",
      "129  0.256044  0.396291  1.740112  1.482788  0.007900  0.683592  0.057729   \n",
      "169  0.244546 -0.429493  0.478824  0.238361  0.057801  0.831794  0.526616   \n",
      "\n",
      "     Group  \n",
      "168      1  \n",
      "137      1  \n",
      "99       1  \n",
      "129      1  \n",
      "169      1  \n",
      "\n",
      "Healthy Firms in Estimation Sample:\n",
      "    yd      tdta      reta     opita     ebita      lsls       lta     gempl  \\\n",
      "4    0  0.202570  0.483833  0.280728  0.233083  2.443132  2.238314 -0.032192   \n",
      "0    0  0.145539  0.383244  0.249250  0.240580  2.832563  3.196006  0.105342   \n",
      "73   0  0.599189  0.148823  0.143413  0.103324  2.963405  2.493213 -0.020852   \n",
      "14   0  0.285424  0.672930  0.149720  0.127476  3.302820  2.382374  0.011250   \n",
      "24   0  0.361174  0.591618  0.224664  0.181977  3.877527  3.488940 -0.053897   \n",
      "\n",
      "      invsls     nwcta      cacl      qacl      fata      ltdta    mveltd  \\\n",
      "4   0.237983  0.585332  6.133335  3.571832  0.051713   8.326772  0.293362   \n",
      "0   0.075232  0.793606  6.452848  6.093447  0.000000  27.604182  0.027201   \n",
      "73  0.252448  0.516704  3.772515  1.604781  0.373210   0.500182  0.273783   \n",
      "14  0.162897  0.604977  3.132475  1.691014  0.000000   1.586744  0.109396   \n",
      "24  0.068236  0.228592  1.840578  1.470500  0.089228   1.332120  0.276355   \n",
      "\n",
      "    Group  \n",
      "4       1  \n",
      "0       1  \n",
      "73      1  \n",
      "14      1  \n",
      "24      1  \n"
     ]
    }
   ],
   "source": [
    "# Firms in default within estimation_sample\n",
    "default_firms_estimation = estimation_sample[estimation_sample['yd'] == 1]\n",
    "\n",
    "# Healthy firms within estimation_sample\n",
    "healthy_firms_estimation = estimation_sample[estimation_sample['yd'] == 0]\n",
    "\n",
    "# Display sample rows from each group\n",
    "print(\"Default Firms in Estimation Sample:\")\n",
    "print(default_firms_estimation.head())\n",
    "\n",
    "print(\"\\nHealthy Firms in Estimation Sample:\")\n",
    "print(healthy_firms_estimation.head())"
   ]
  },
  {
   "cell_type": "markdown",
   "id": "54984096-d445-43ee-9589-6b336ecc247b",
   "metadata": {},
   "source": [
    "*validation sample:*"
   ]
  },
  {
   "cell_type": "code",
   "execution_count": 70,
   "id": "fe33f1b5-67af-498f-835f-cc4017a2190b",
   "metadata": {},
   "outputs": [
    {
     "name": "stdout",
     "output_type": "stream",
     "text": [
      "Default Firms in Validation Sample:\n",
      "     yd      tdta      reta     opita     ebita      lsls       lta     gempl  \\\n",
      "138   1  0.603715  0.185826 -0.118158 -0.170569  2.847273  2.770030 -0.169024   \n",
      "123   1  0.517705  0.250614  0.004336 -0.027894  2.925547  2.127856 -0.063153   \n",
      "178   1  1.194813 -0.687160  0.059045  0.021517  3.399509  3.175943 -0.042573   \n",
      "96    1  0.213275  0.487536 -0.022950 -0.085864  3.501116  2.933322 -0.069260   \n",
      "101   1  0.352488  0.421666  0.104132  0.089516  3.692987  3.872935 -0.083393   \n",
      "\n",
      "       invsls     nwcta      cacl      qacl      fata     ltdta    mveltd  \\\n",
      "138  0.485257  0.418705  1.994468  0.749378  0.182681  0.672712  0.137957   \n",
      "123  0.377140  0.438358  1.963775  0.122656  0.062870  0.433155  0.091776   \n",
      "178  0.211297  0.243164  1.906422  0.921461  0.902017  0.257062  0.291130   \n",
      "96   0.199540  0.485657  4.493063  1.960868  0.034623  2.640777  0.364131   \n",
      "101  0.224503  0.714476  6.838081  5.305749  0.075171  2.831504  0.131277   \n",
      "\n",
      "     Group  \n",
      "138      0  \n",
      "123      0  \n",
      "178      0  \n",
      "96       0  \n",
      "101      0  \n",
      "\n",
      "Healthy Firms in Validation Sample:\n",
      "    yd      tdta      reta     opita     ebita      lsls       lta     gempl  \\\n",
      "62   0  0.548348  0.037796 -0.063657 -0.092025  2.243384  2.320210  0.456475   \n",
      "68   0  0.573019  0.040257  0.202784  0.186510  2.639933  1.968870  0.033038   \n",
      "31   0  0.409262  0.006859  0.126605  0.098086  2.968233  3.158393  0.160371   \n",
      "75   0  0.602755  0.159501  0.033538  0.008109  3.286872  3.204271  0.022215   \n",
      "19   0  0.313641  0.433485  0.096561  0.072070  3.341159  2.956980  0.004902   \n",
      "\n",
      "      invsls     nwcta      cacl      qacl      fata     ltdta    mveltd  \\\n",
      "62  0.322593  0.350026  2.371865  1.201017  0.284639  1.471214  0.245892   \n",
      "68  0.189908  0.470021  2.242922  1.260476  0.164240  1.757342  0.150107   \n",
      "31  0.162727  0.341705  2.264987  1.766896  0.139137  2.755766  0.226291   \n",
      "75  0.267447  0.255634  2.165768  0.841108  0.344554  2.568793  0.504544   \n",
      "19  0.253364  0.411554  2.445538  1.138785  0.000000  2.476293  0.277848   \n",
      "\n",
      "    Group  \n",
      "62      0  \n",
      "68      0  \n",
      "31      0  \n",
      "75      0  \n",
      "19      0  \n"
     ]
    }
   ],
   "source": [
    "# Firms in default within validation_sample\n",
    "default_firms_validation = validation_sample[validation_sample['yd'] == 1]\n",
    "\n",
    "# Healthy firms within validation_sample\n",
    "healthy_firms_validation = validation_sample[validation_sample['yd'] == 0]\n",
    "\n",
    "# Display sample rows from each group\n",
    "print(\"Default Firms in Validation Sample:\")\n",
    "print(default_firms_validation.head())\n",
    "\n",
    "print(\"\\nHealthy Firms in Validation Sample:\")\n",
    "print(healthy_firms_validation.head())\n"
   ]
  },
  {
   "cell_type": "markdown",
   "id": "4e99464d-5f13-4c1e-85f1-1f0041c0ee1c",
   "metadata": {},
   "source": [
    "*3.Histograms for healthy and default firms (estimation and validation sample)*"
   ]
  },
  {
   "cell_type": "code",
   "execution_count": 71,
   "id": "fe6c387b-4f15-4b95-aca8-00cb6cdccf52",
   "metadata": {},
   "outputs": [
    {
     "data": {
      "image/png": "[encoded data removed]",
      "text/plain": [
       "<Figure size 1400x1000 with 4 Axes>"
      ]
     },
     "metadata": {},
     "output_type": "display_data"
    }
   ],
   "source": [
    "# Plotting histograms\n",
    "plt.figure(figsize=(14, 10))\n",
    "\n",
    "# Estimation Sample - Default Firms\n",
    "plt.subplot(2, 2, 1)\n",
    "plt.hist(default_firms_estimation['tdta'], bins=30, alpha=0.7, edgecolor='black')\n",
    "plt.title(\"Estimation Sample - Default Firms\")\n",
    "plt.xlabel(\"Total Debt / Total Asset (TDTA)\")\n",
    "plt.ylabel(\"Frequency\")\n",
    "\n",
    "# Estimation Sample - Healthy Firms\n",
    "plt.subplot(2, 2, 2)\n",
    "plt.hist(healthy_firms_estimation['tdta'], bins=30, alpha=0.7, edgecolor='black')\n",
    "plt.title(\"Estimation Sample - Healthy Firms\")\n",
    "plt.xlabel(\"Total Debt / Total Asset (TDTA)\")\n",
    "plt.ylabel(\"Frequency\")\n",
    "\n",
    "# Validation Sample - Default Firms\n",
    "plt.subplot(2, 2, 3)\n",
    "plt.hist(default_firms_validation['tdta'], bins=30, alpha=0.7, edgecolor='black')\n",
    "plt.title(\"Validation Sample - Default Firms\")\n",
    "plt.xlabel(\"Total Debt / Total Asset (TDTA)\")\n",
    "plt.ylabel(\"Frequency\")\n",
    "\n",
    "# Validation Sample - Healthy Firms\n",
    "plt.subplot(2, 2, 4)\n",
    "plt.hist(healthy_firms_validation['tdta'], bins=30, alpha=0.7, edgecolor='black')\n",
    "plt.title(\"Validation Sample - Healthy Firms\")\n",
    "plt.xlabel(\"Total Debt / Total Asset (TDTA)\")\n",
    "plt.ylabel(\"Frequency\")\n",
    "\n",
    "plt.tight_layout()\n",
    "plt.show()"
   ]
  },
  {
   "cell_type": "markdown",
   "id": "15e03b1f-f127-49e8-bb76-1af265b54039",
   "metadata": {},
   "source": [
    "*4.normality tests for total debt/total assets for default versus healthy firms*"
   ]
  },
  {
   "cell_type": "code",
   "execution_count": 72,
   "id": "c451bd5c-c9ac-4741-bfca-6b4a93bb0283",
   "metadata": {},
   "outputs": [
    {
     "name": "stdout",
     "output_type": "stream",
     "text": [
      "Normality Test Results for Total Debt / Total Assets (TDTA) in Estimation Sample:\n",
      "\n",
      "Default Firms:\n",
      "- Shapiro-Wilk Test: p-value = 0.0071\n",
      "- Kolmogorov-Smirnov Test: p-value = 0.6713\n",
      "- Anderson-Darling Test: statistic = 0.6688\n",
      "\n",
      "Healthy Firms:\n",
      "- Shapiro-Wilk Test: p-value = 0.0860\n",
      "- Kolmogorov-Smirnov Test: p-value = 0.6419\n",
      "- Anderson-Darling Test: statistic = 0.5805\n"
     ]
    }
   ],
   "source": [
    "# Separate data for the estimation sample\n",
    "# Default firms in estimation sample\n",
    "default_firms_estimation = estimation_sample[estimation_sample['yd'] == 1]['tdta'].dropna()\n",
    "\n",
    "# Healthy firms in estimation sample\n",
    "healthy_firms_estimation = estimation_sample[estimation_sample['yd'] == 0]['tdta'].dropna()\n",
    "\n",
    "# Shapiro-Wilk Test for estimation sample\n",
    "shapiro_default = shapiro(default_firms_estimation)\n",
    "shapiro_healthy = shapiro(healthy_firms_estimation)\n",
    "\n",
    "# Kolmogorov-Smirnov Test for estimation sample\n",
    "ks_default = kstest(default_firms_estimation, 'norm', args=(default_firms_estimation.mean(), default_firms_estimation.std()))\n",
    "ks_healthy = kstest(healthy_firms_estimation, 'norm', args=(healthy_firms_estimation.mean(), healthy_firms_estimation.std()))\n",
    "\n",
    "# Anderson-Darling Test for estimation sample (does not return p-value)\n",
    "anderson_default = anderson(default_firms_estimation, dist='norm')\n",
    "anderson_healthy = anderson(healthy_firms_estimation, dist='norm')\n",
    "\n",
    "# Print results for the estimation sample\n",
    "print(\"Normality Test Results for Total Debt / Total Assets (TDTA) in Estimation Sample:\")\n",
    "\n",
    "print(\"\\nDefault Firms:\")\n",
    "print(f\"- Shapiro-Wilk Test: p-value = {shapiro_default.pvalue:.4f}\")\n",
    "print(f\"- Kolmogorov-Smirnov Test: p-value = {ks_default.pvalue:.4f}\")\n",
    "print(f\"- Anderson-Darling Test: statistic = {anderson_default.statistic:.4f}\")\n",
    "\n",
    "print(\"\\nHealthy Firms:\")\n",
    "print(f\"- Shapiro-Wilk Test: p-value = {shapiro_healthy.pvalue:.4f}\")\n",
    "print(f\"- Kolmogorov-Smirnov Test: p-value = {ks_healthy.pvalue:.4f}\")\n",
    "print(f\"- Anderson-Darling Test: statistic = {anderson_healthy.statistic:.4f}\")"
   ]
  },
  {
   "cell_type": "markdown",
   "id": "fd215c7d-b2d0-448d-b1b3-326438e19922",
   "metadata": {},
   "source": [
    "*5. test of equality of means of tdta*"
   ]
  },
  {
   "cell_type": "markdown",
   "id": "293cb213-5b0d-4a54-9b29-63b9ba8a0f56",
   "metadata": {},
   "source": [
    "*Student’s t-test of Equality of Means*"
   ]
  },
  {
   "cell_type": "code",
   "execution_count": 73,
   "id": "1583d89c-fff7-4645-9d05-e14975063609",
   "metadata": {},
   "outputs": [
    {
     "name": "stdout",
     "output_type": "stream",
     "text": [
      "Student’s t-test of Equality of Means:\n",
      "t-statistic: 5.384405778506313\n",
      "p-value: 9.263448682920358e-07\n"
     ]
    }
   ],
   "source": [
    "from scipy.stats import ttest_ind\n",
    "\n",
    "# Separate TDTA data for default (yd=1) and healthy (yd=0) firms in the estimation sample\n",
    "tdta_default = estimation_sample[estimation_sample['yd'] == 1]['tdta'].dropna()\n",
    "tdta_healthy = estimation_sample[estimation_sample['yd'] == 0]['tdta'].dropna()\n",
    "\n",
    "# Perform Student's t-test (Welch's t-test) for equality of means\n",
    "t_stat, p_value = ttest_ind(tdta_default, tdta_healthy, equal_var=False)\n",
    "\n",
    "print(\"Student’s t-test of Equality of Means:\")\n",
    "print(f\"t-statistic: {t_stat}\")\n",
    "print(f\"p-value: {p_value}\")\n"
   ]
  },
  {
   "cell_type": "markdown",
   "id": "21cf80b6-8085-474d-a932-5b218cd0c7a2",
   "metadata": {},
   "source": [
    "*Analysis of Variance (ANOVA) with Student’s Test on Parameter β = 0*"
   ]
  },
  {
   "cell_type": "code",
   "execution_count": 74,
   "id": "742e55a5-1314-4e98-bb0d-43511282da76",
   "metadata": {},
   "outputs": [
    {
     "name": "stdout",
     "output_type": "stream",
     "text": [
      "\n",
      "ANOVA Results with Student’s test on β = 0:\n",
      "            sum_sq    df          F        PR(>F)\n",
      "C(yd)     1.133279   1.0  31.014844  2.685246e-07\n",
      "Residual  3.252052  89.0        NaN           NaN\n",
      "\n",
      "Coefficients of the Model:\n",
      "                            OLS Regression Results                            \n",
      "==============================================================================\n",
      "Dep. Variable:                   tdta   R-squared:                       0.258\n",
      "Model:                            OLS   Adj. R-squared:                  0.250\n",
      "Method:                 Least Squares   F-statistic:                     31.01\n",
      "Date:                Tue, 12 Nov 2024   Prob (F-statistic):           2.69e-07\n",
      "Time:                        23:24:59   Log-Likelihood:                 22.463\n",
      "No. Observations:                  91   AIC:                            -40.93\n",
      "Df Residuals:                      89   BIC:                            -35.90\n",
      "Df Model:                           1                                         \n",
      "Covariance Type:            nonrobust                                         \n",
      "==============================================================================\n",
      "                 coef    std err          t      P>|t|      [0.025      0.975]\n",
      "------------------------------------------------------------------------------\n",
      "Intercept      0.4482      0.027     16.580      0.000       0.394       0.502\n",
      "C(yd)[T.1]     0.2243      0.040      5.569      0.000       0.144       0.304\n",
      "==============================================================================\n",
      "Omnibus:                       19.837   Durbin-Watson:                   1.676\n",
      "Prob(Omnibus):                  0.000   Jarque-Bera (JB):               38.713\n",
      "Skew:                           0.810   Prob(JB):                     3.92e-09\n",
      "Kurtosis:                       5.754   Cond. No.                         2.52\n",
      "==============================================================================\n",
      "\n",
      "Notes:\n",
      "[1] Standard Errors assume that the covariance matrix of the errors is correctly specified.\n"
     ]
    }
   ],
   "source": [
    "import statsmodels.api as sm\n",
    "import statsmodels.formula.api as smf\n",
    "\n",
    "# Fit an ANOVA model\n",
    "model = smf.ols('tdta ~ C(yd)', data=estimation_sample).fit()\n",
    "anova_results = sm.stats.anova_lm(model, typ=2)\n",
    "\n",
    "print(\"\\nANOVA Results with Student’s test on β = 0:\")\n",
    "print(anova_results)\n",
    "\n",
    "# Coefficient significance test (Student's t-test for β = 0)\n",
    "print(\"\\nCoefficients of the Model:\")\n",
    "print(model.summary())\n"
   ]
  },
  {
   "cell_type": "markdown",
   "id": "af3eb933-5d6c-41c8-95f0-cbf3028da693",
   "metadata": {},
   "source": [
    "*Linear Probability Model (LPM) with Student’s Test on Parameter β′ = 0*"
   ]
  },
  {
   "cell_type": "code",
   "execution_count": 75,
   "id": "9b27fe30-ef57-4b80-a10e-67d6ecd1427a",
   "metadata": {},
   "outputs": [
    {
     "name": "stdout",
     "output_type": "stream",
     "text": [
      "\n",
      "Linear Probability Model (LPM) with Student’s test on β' = 0:\n",
      "                            OLS Regression Results                            \n",
      "==============================================================================\n",
      "Dep. Variable:                     yd   R-squared:                       0.258\n",
      "Model:                            OLS   Adj. R-squared:                  0.250\n",
      "Method:                 Least Squares   F-statistic:                     31.01\n",
      "Date:                Tue, 12 Nov 2024   Prob (F-statistic):           2.69e-07\n",
      "Time:                        23:25:02   Log-Likelihood:                -51.996\n",
      "No. Observations:                  91   AIC:                             108.0\n",
      "Df Residuals:                      89   BIC:                             113.0\n",
      "Df Model:                           1                                         \n",
      "Covariance Type:            nonrobust                                         \n",
      "==============================================================================\n",
      "                 coef    std err          t      P>|t|      [0.025      0.975]\n",
      "------------------------------------------------------------------------------\n",
      "Intercept     -0.1823      0.122     -1.490      0.140      -0.425       0.061\n",
      "tdta           1.1522      0.207      5.569      0.000       0.741       1.563\n",
      "==============================================================================\n",
      "Omnibus:                       44.611   Durbin-Watson:                   1.774\n",
      "Prob(Omnibus):                  0.000   Jarque-Bera (JB):                7.214\n",
      "Skew:                           0.251   Prob(JB):                       0.0271\n",
      "Kurtosis:                       1.715   Cond. No.                         5.98\n",
      "==============================================================================\n",
      "\n",
      "Notes:\n",
      "[1] Standard Errors assume that the covariance matrix of the errors is correctly specified.\n"
     ]
    }
   ],
   "source": [
    "# Fit a linear probability model (LPM) using OLS\n",
    "lpm_model = smf.ols('yd ~ tdta', data=estimation_sample).fit()\n",
    "\n",
    "print(\"\\nLinear Probability Model (LPM) with Student’s test on β' = 0:\")\n",
    "print(lpm_model.summary())\n"
   ]
  },
  {
   "cell_type": "markdown",
   "id": "9d6100b7-7f9a-4bc8-a84e-e2f4081f7371",
   "metadata": {},
   "source": [
    "*Correlation Matrix Test for r(yd, tdta) = 0*"
   ]
  },
  {
   "cell_type": "code",
   "execution_count": 76,
   "id": "b1de0313-1d58-46bb-b5e5-9e5276f05343",
   "metadata": {},
   "outputs": [
    {
     "name": "stdout",
     "output_type": "stream",
     "text": [
      "\n",
      "Correlation Matrix Test for r(yd, tdta) = 0:\n",
      "Correlation coefficient: 0.508355258686486\n",
      "p-value: 2.685245633582078e-07\n"
     ]
    }
   ],
   "source": [
    "from scipy.stats import pearsonr\n",
    "\n",
    "# Calculate the Pearson correlation coefficient and p-value between yd and tdta\n",
    "correlation, p_value_corr = pearsonr(estimation_sample['yd'], estimation_sample['tdta'])\n",
    "\n",
    "print(\"\\nCorrelation Matrix Test for r(yd, tdta) = 0:\")\n",
    "print(f\"Correlation coefficient: {correlation}\")\n",
    "print(f\"p-value: {p_value_corr}\")"
   ]
  },
  {
   "cell_type": "code",
   "execution_count": 77,
   "id": "2ccb7b5a-7bed-4dd8-9758-08cf7f5c346e",
   "metadata": {},
   "outputs": [
    {
     "name": "stdout",
     "output_type": "stream",
     "text": [
      "Independent Two-Sample t-Test (Equal Variance Assumed) in Estimation Sample:\n",
      "t-statistic: 5.5690972757121315\n",
      "p-value: 2.6852456335820627e-07\n",
      "\n",
      "Welch’s t-Test (Unequal Variance) in Estimation Sample:\n",
      "t-statistic: 5.384405778506313\n",
      "p-value: 9.263448682920358e-07\n",
      "\n",
      "Paired t-Test (Simulated Pairing) in Estimation Sample:\n",
      "t-statistic: 4.824644531325714\n",
      "p-value: 2.0668390960497838e-05\n",
      "\n",
      "One-Sample t-Test (Default Firms vs Benchmark) in Estimation Sample:\n",
      "t-statistic: 4.911514981058644\n",
      "p-value: 1.569058016980141e-05\n",
      "\n",
      "One-Sample t-Test (Healthy Firms vs Benchmark) in Estimation Sample:\n",
      "t-statistic: -2.3122747282329312\n",
      "p-value: 0.025005986254939234\n",
      "\n"
     ]
    }
   ],
   "source": [
    "# Separate TDTA data for default (yd=1) and healthy (yd=0) firms in the estimation sample\n",
    "tdta_default_estimation = estimation_sample[estimation_sample['yd'] == 1]['tdta'].dropna()  # Default firms\n",
    "tdta_healthy_estimation = estimation_sample[estimation_sample['yd'] == 0]['tdta'].dropna()  # Healthy firms\n",
    "\n",
    "# 1. Independent Two-Sample t-Test (Equal Variance Assumed)\n",
    "t_stat_equal_var, p_value_equal_var = ttest_ind(tdta_default_estimation, tdta_healthy_estimation, equal_var=True)\n",
    "print(\"Independent Two-Sample t-Test (Equal Variance Assumed) in Estimation Sample:\")\n",
    "print(f\"t-statistic: {t_stat_equal_var}\")\n",
    "print(f\"p-value: {p_value_equal_var}\\n\")\n",
    "\n",
    "# 2. Welch’s t-Test (Unequal Variance)\n",
    "t_stat_unequal_var, p_value_unequal_var = ttest_ind(tdta_default_estimation, tdta_healthy_estimation, equal_var=False)\n",
    "print(\"Welch’s t-Test (Unequal Variance) in Estimation Sample:\")\n",
    "print(f\"t-statistic: {t_stat_unequal_var}\")\n",
    "print(f\"p-value: {p_value_unequal_var}\\n\")\n",
    "\n",
    "# 3. Paired t-Test (Hypothetical Paired Data)\n",
    "# If paired data exists, use it; otherwise, simulate pairing by sampling equal lengths.\n",
    "min_len = min(len(tdta_default_estimation), len(tdta_healthy_estimation))\n",
    "paired_default = np.random.choice(tdta_default_estimation, min_len, replace=False)\n",
    "paired_healthy = np.random.choice(tdta_healthy_estimation, min_len, replace=False)\n",
    "t_stat_paired, p_value_paired = ttest_rel(paired_default, paired_healthy)\n",
    "print(\"Paired t-Test (Simulated Pairing) in Estimation Sample:\")\n",
    "print(f\"t-statistic: {t_stat_paired}\")\n",
    "print(f\"p-value: {p_value_paired}\\n\")\n",
    "\n",
    "# 4. One-Sample t-Test (Compare Each Group to a Benchmark)\n",
    "benchmark_value = 0.5  # Replace with an appropriate benchmark if available\n",
    "\n",
    "# Test default firms against the benchmark\n",
    "t_stat_one_sample_default, p_value_one_sample_default = ttest_1samp(tdta_default_estimation, benchmark_value)\n",
    "print(\"One-Sample t-Test (Default Firms vs Benchmark) in Estimation Sample:\")\n",
    "print(f\"t-statistic: {t_stat_one_sample_default}\")\n",
    "print(f\"p-value: {p_value_one_sample_default}\\n\")\n",
    "\n",
    "# Test healthy firms against the benchmark\n",
    "t_stat_one_sample_healthy, p_value_one_sample_healthy = ttest_1samp(tdta_healthy_estimation, benchmark_value)\n",
    "print(\"One-Sample t-Test (Healthy Firms vs Benchmark) in Estimation Sample:\")\n",
    "print(f\"t-statistic: {t_stat_one_sample_healthy}\")\n",
    "print(f\"p-value: {p_value_one_sample_healthy}\\n\")"
   ]
  }
 ],
 "metadata": {
  "kernelspec": {
   "display_name": "Python 3 (ipykernel)",
   "language": "python",
   "name": "python3"
  },
  "language_info": {
   "codemirror_mode": {
    "name": "ipython",
    "version": 3
   },
   "file_extension": ".py",
   "mimetype": "text/x-python",
   "name": "python",
   "nbconvert_exporter": "python",
   "pygments_lexer": "ipython3",
   "version": "3.11.6"
  }
 },
 "nbformat": 4,
 "nbformat_minor": 5
}
